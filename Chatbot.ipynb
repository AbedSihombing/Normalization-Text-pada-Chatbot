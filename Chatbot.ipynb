{
 "cells": [
  {
   "cell_type": "code",
   "execution_count": 1,
   "metadata": {},
   "outputs": [
    {
     "name": "stdout",
     "output_type": "stream",
     "text": [
      "Requirement already satisfied: nltk in c:\\users\\abednego\\anaconda3\\lib\\site-packages (3.4.4)\n",
      "Requirement already satisfied: six in c:\\users\\abednego\\anaconda3\\lib\\site-packages (from nltk) (1.12.0)\n",
      "Note: you may need to restart the kernel to use updated packages.\n"
     ]
    }
   ],
   "source": [
    "pip install nltk"
   ]
  },
  {
   "cell_type": "code",
   "execution_count": 2,
   "metadata": {},
   "outputs": [
    {
     "name": "stdout",
     "output_type": "stream",
     "text": [
      "Requirement already satisfied: newspaper3k in c:\\users\\abednego\\anaconda3\\lib\\site-packages (0.2.8)\n",
      "Requirement already satisfied: tinysegmenter==0.3 in c:\\users\\abednego\\anaconda3\\lib\\site-packages (from newspaper3k) (0.3)\n",
      "Requirement already satisfied: nltk>=3.2.1 in c:\\users\\abednego\\anaconda3\\lib\\site-packages (from newspaper3k) (3.4.4)\n",
      "Requirement already satisfied: feedparser>=5.2.1 in c:\\users\\abednego\\anaconda3\\lib\\site-packages (from newspaper3k) (6.0.2)\n",
      "Requirement already satisfied: Pillow>=3.3.0 in c:\\users\\abednego\\anaconda3\\lib\\site-packages (from newspaper3k) (6.1.0)\n",
      "Requirement already satisfied: PyYAML>=3.11 in c:\\users\\abednego\\anaconda3\\lib\\site-packages (from newspaper3k) (5.1.1)\n",
      "Requirement already satisfied: jieba3k>=0.35.1 in c:\\users\\abednego\\anaconda3\\lib\\site-packages (from newspaper3k) (0.35.1)\n",
      "Requirement already satisfied: requests>=2.10.0 in c:\\users\\abednego\\anaconda3\\lib\\site-packages (from newspaper3k) (2.22.0)\n",
      "Requirement already satisfied: tldextract>=2.0.1 in c:\\users\\abednego\\anaconda3\\lib\\site-packages (from newspaper3k) (3.1.0)\n",
      "Requirement already satisfied: beautifulsoup4>=4.4.1 in c:\\users\\abednego\\anaconda3\\lib\\site-packages (from newspaper3k) (4.7.1)\n",
      "Requirement already satisfied: cssselect>=0.9.2 in c:\\users\\abednego\\anaconda3\\lib\\site-packages (from newspaper3k) (1.1.0)\n",
      "Requirement already satisfied: lxml>=3.6.0 in c:\\users\\abednego\\anaconda3\\lib\\site-packages (from newspaper3k) (4.3.4)\n",
      "Requirement already satisfied: python-dateutil>=2.5.3 in c:\\users\\abednego\\anaconda3\\lib\\site-packages (from newspaper3k) (2.8.0)\n",
      "Requirement already satisfied: feedfinder2>=0.0.4 in c:\\users\\abednego\\anaconda3\\lib\\site-packages (from newspaper3k) (0.0.4)\n",
      "Requirement already satisfied: six in c:\\users\\abednego\\anaconda3\\lib\\site-packages (from nltk>=3.2.1->newspaper3k) (1.12.0)\n",
      "Requirement already satisfied: sgmllib3k in c:\\users\\abednego\\anaconda3\\lib\\site-packages (from feedparser>=5.2.1->newspaper3k) (1.0.0)\n",
      "Requirement already satisfied: idna<2.9,>=2.5 in c:\\users\\abednego\\anaconda3\\lib\\site-packages (from requests>=2.10.0->newspaper3k) (2.8)\n",
      "Requirement already satisfied: certifi>=2017.4.17 in c:\\users\\abednego\\anaconda3\\lib\\site-packages (from requests>=2.10.0->newspaper3k) (2019.6.16)\n",
      "Requirement already satisfied: chardet<3.1.0,>=3.0.2 in c:\\users\\abednego\\anaconda3\\lib\\site-packages (from requests>=2.10.0->newspaper3k) (3.0.4)\n",
      "Requirement already satisfied: urllib3!=1.25.0,!=1.25.1,<1.26,>=1.21.1 in c:\\users\\abednego\\anaconda3\\lib\\site-packages (from requests>=2.10.0->newspaper3k) (1.24.2)\n",
      "Requirement already satisfied: filelock>=3.0.8 in c:\\users\\abednego\\anaconda3\\lib\\site-packages (from tldextract>=2.0.1->newspaper3k) (3.0.12)\n",
      "Requirement already satisfied: requests-file>=1.4 in c:\\users\\abednego\\anaconda3\\lib\\site-packages (from tldextract>=2.0.1->newspaper3k) (1.5.1)\n",
      "Requirement already satisfied: soupsieve>=1.2 in c:\\users\\abednego\\anaconda3\\lib\\site-packages (from beautifulsoup4>=4.4.1->newspaper3k) (1.8)\n",
      "Note: you may need to restart the kernel to use updated packages.\n"
     ]
    }
   ],
   "source": [
    "pip install newspaper3k"
   ]
  },
  {
   "cell_type": "code",
   "execution_count": 3,
   "metadata": {},
   "outputs": [],
   "source": [
    "#import the libraries\n",
    "from newspaper import Article\n",
    "import random\n",
    "import string\n",
    "import nltk\n",
    "from sklearn.feature_extraction.text import CountVectorizer\n",
    "from sklearn.metrics.pairwise import cosine_similarity\n",
    "import numpy as np\n",
    "import warnings\n",
    "import re\n",
    "warnings.filterwarnings('ignore')"
   ]
  },
  {
   "cell_type": "code",
   "execution_count": 4,
   "metadata": {},
   "outputs": [
    {
     "data": {
      "text/plain": [
       "True"
      ]
     },
     "execution_count": 4,
     "metadata": {},
     "output_type": "execute_result"
    }
   ],
   "source": [
    "#download the punkt package\n",
    "nltk.download('punkt', quiet=True)"
   ]
  },
  {
   "cell_type": "code",
   "execution_count": 5,
   "metadata": {},
   "outputs": [],
   "source": [
    "#get the article\n",
    "article = Article('https://id.wikipedia.org/wiki/Kesehatan')\n",
    "article.download()\n",
    "article.parse()\n",
    "article.nlp()\n",
    "corpus = article.text"
   ]
  },
  {
   "cell_type": "code",
   "execution_count": 6,
   "metadata": {},
   "outputs": [
    {
     "name": "stdout",
     "output_type": "stream",
     "text": [
      "Kesehatan adalah kondisi kesejahteraan fisik, mental, dan sosial yang lengkap dan bukan sekadar tidak adanya penyakit atau kelemahan.[1] Pemahaman tentang kesehatan telah bergeser seiring dengan waktu. Berkembangnya teknologi kesehatan berbasis digital telah memungkinkan setiap orang untuk mempelajari dan menilai diri mereka sendiri, dan berpartisipasi aktif dalam gerakan promosi kesehatan. Berbagai faktor sosial berpengaruh terhadap kondisi kesehatan, seperti perilaku individu, kondisi sosial, genetik dan biologi, perawatan kesehatan, dan lingkungan fisik.\n",
      "\n",
      "Makna kesehatan telah berkembang seiring dengan waktu. Dalam perspektif model biomedis, definisi awal kesehatan difokuskan pada kemampuan tubuh untuk berfungsi. Kesehatan dipandang sebagai kondisi tubuh yang berfungsi normal yang dapat terganggu oleh penyakit dari waktu ke waktu.[2]\n",
      "\n",
      "Pada tahun 1948, Organisasi Kesehatan Dunia (WHO) mendefinisikan kesehatan sebagai \"kesejahteraan fisik, mental, dan sosial, dan bukan hanya tidak adanya penyakit dan kelemahan\".[3] Meskipun definisi ini disambut baik oleh beberapa orang dan dipandang inovatif, definisi ini juga dikritik karena tidak jelas, terlalu luas, dan tidak diuraikan dengan terukur.[2] Beberapa ilmuwan mengajukan definisi kesehatan yang lain, misalnya \"kondisi yang ditandai dengan integritas anatomi; kemampuan untuk melakukan peran dalam keluarga, pekerjaan, dan masyarakat, yang dihargai secara pribadi; kemampuan untuk menghadapi tekanan fisik, biologis, dan sosial; perasaan sejahtera; dan kebebasan dari risiko penyakit dan kematian sebelum waktunya.\"[4]\n",
      "\n",
      "Semakin lama, penyakit tidak lagi dipandang sebagai sebuah kondisi, tetapi sebuah proses. Pergeseran sudut pandang ini juga terjadi pada kesehatan. Pada awal 1980-an, WHO mendorong perkembangan gerakan promosi kesehatan. Gerakan ini memungkinkan orang-orang meningkatkan kendali atas kesehatan mereka dan memperbaiki status kesehatan mereka masing-masing. Untuk mewujudkan kondisi kesejahteraan fisik, mental, dan sosial yang lengkap, sebagaimana definisi WHO tentang kesehatan, seseorang atau sekelompok orang perlu memiliki kemampuan untuk mengidentifikasi dan mewujudkan aspirasi, memenuhi kebutuhan, serta mengubah atau mengatasi lingkungannya. Kesehatan dipandang sebagai sumber daya untuk kehidupan sehari-hari, bukan tujuan hidup.[5] Untuk mewujudkannya, ada beberapa prasyarat yang perlu dipenuhi, yaitu perdamaian, tempat tinggal, pendidikan, makanan, pendapatan, ekosistem yang stabil, sumber daya berkelanjutan, serta keadilan sosial dan kesetaraan.[6]\n",
      "\n",
      "Gerakan promosi kesehatan memungkinkan kesehatan untuk diajarkan, dipelajari, dan diperkuat. Pemahaman konsep kesehatan sebagai \"kemampuan untuk beradaptasi dan mengatur diri sendiri\" dan berkembangnya teknologi kesehatan berbasis digital telah membuka pintu bagi setiap orang untuk menilai diri mereka sendiri.[7] Hal ini juga memungkinkan setiap orang untuk merasa sehat, bahkan ketika mereka memiliki berbagai penyakit kronis atau berada dalam kondisi terminal.[8][9] Belakangan, istilah \"sehat\" juga banyak digunakan dalam berbagai konteks organisasi tak hidup yang memengaruhi kepentingan manusia, seperti dalam komunitas sehat, kota sehat, atau lingkungan sehat.\n",
      "\n",
      "Penentu sosial [ sunting | sunting sumber ]\n",
      "\n",
      "Secara umum, latar belakang dan konteks kehidupan seseorang sangat memengaruhi status kesehatan dan kualitas hidupnya. Kesehatan tidak hanya dipertahankan dan ditingkatkan melalui kemajuan dan penerapan ilmu kesehatan, tetapi juga melalui gaya hidup oleh suatu individu dan masyarakat sekitarnya. Menurut WHO, penentu sosial kesehatan adalah kondisi yang dialami seseorang ketika dilahirkan, tumbuh, bekerja, hidup, dan menua, serta serangkaian kekuatan dan sistem yang lebih luas yang membentuk kondisi kehidupan sehari-hari. Kondisi ini dibentuk oleh distribusi uang, kekuasaan, dan sumber daya di tingkat global, nasional, dan lokal. Kondisi tersebut sangat bertanggung jawab atas kesenjangan kesehatan, baik di dalam suatu negara maupun di antara negara-negara.[10][11]\n",
      "\n",
      "Faktor-faktor kunci lebih spesifik yang memengaruhi apakah seseorang sehat atau tidak sehat meliputi penghasilan dan status sosial, jaringan dukungan sosial, pendidikan dan literasi, ketenagakerjaan/kondisi kerja, lingkungan sosial, lingkungan fisik, praktik kesehatan pribadi dan keterampilan mengatasi masalah, perkembangan masa kanak-kanak yang sehat, kondisi biologis dan genetik, perawatan kesehatan, gender, dan budaya.[12][13]\n",
      "\n",
      "Visualisasi faktor-faktor penentu sosial kesehatan, yang meliputi perilaku individu, kondisi sosial, genetik dan biologi, perawatan kesehatan, dan lingkungan fisik.\n",
      "\n",
      "Semakin banyak penelitian dan laporan yang meneliti keterkaitan antara kesehatan dan berbagai faktor, termasuk gaya hidup, lingkungan, fasilitas pelayanan kesehatan, dan kebijakan kesehatan. Salah satu kebijakan spesifik yang dibuat banyak negara dalam beberapa tahun terakhir adalah pengenaan pajak terhadap gula. Minuman manis juga mulai dikenakan pajak dan mulai ditargetkan oleh gerakan antiobesitas akibat semakin banyaknya bukti yang menunjukkan hubungan antara minuman bergula tinggi dengan kegemukan.[14]\n",
      "\n",
      "Sebuah studi mengungkapkan bahwa seseorang dapat meningkatkan kesehatan mereka melalui latihan fisik, tidur yang cukup, membatasi konsumsi alkohol, tidak merokok, menjaga berat badan, dan sarapan dengan rutin.[15] Lingkungan sering disebut sebagai faktor penting yang memengaruhi status kesehatan individu, termasuk lingkungan hidup, lingkungan binaan, dan lingkungan sosial. Panduan tempat tinggal telah diterbitkan oleh WHO untuk memperbaiki kondisi tempat tinggal sehingga dapat menyelamatkan jiwa, mencegah penyakit, meningkatkan kualitas hidup, mengurangi kemiskinan, dan membantu mengurangi perubahan iklim.[16] Penelitian menunjukkan bahwa kurangnya ruang rekreasi, termasuk lingkungan alam, akan menurunkan tingkat kepuasan pribadi dan meningkatkan tingkat obesitas, dan dikaitkan dengan rendahnya kesehatan dan kesejahteraan secara umum.[17] Sementara itu, semakin banyak waktu yang dihabiskan di lingkungan alam akan berdampak positif pada kesehatan.[18]\n",
      "\n",
      "Genetik, atau sifat bawaan dari orang tua, juga berperan dalam menentukan status kesehatan individu dan populasi. Hal ini mencakup kecenderungan terhadap penyakit dan kondisi kesehatan tertentu, serta kebiasaan dan perilaku yang dikembangkan oleh seseorang akibat gaya hidup keluarga mereka.[19] Sebagai contoh, genetik dapat memengaruhi cara seseorang mengatasi stres, baik mental, emosional, atau fisik. Misalnya, kegemukan adalah masalah signifikan yang berkontribusi terhadap kesehatan mental yang buruk dan menyebabkan stres dalam kehidupan banyak orang.[20]\n",
      "\n",
      "Kesehatan global [ sunting | sunting sumber ]\n",
      "\n",
      "Kesehatan global merupakan penelitian dan tindakan kolaboratif lintas negara untuk mempromosikan kesehatan untuk semua.[21] Masalah kesehatan yang melampaui batas negara atau memiliki dampak politik dan ekonomi global sering kali ditekankan. Seri Laporan Kesehatan Dunia yang diterbitkan oleh WHO berfokus pada masalah kesehatan global, termasuk akses untuk mendapatkan pelayanan kesehatan dan upaya meningkatkan kesehatan masyarakat, terutama di negara-negara berkembang.[22]\n",
      "\n",
      "Agenda Ketahanan Kesehatan Global (GHSA) merupakan upaya multisektor oleh lebih dari 60 negara dan sejumlah organisasi internasional yang berfokus untuk membangun ketahanan kesehatan dalam menghadapi ancaman penyakit infeksi.[23] Sementara itu, pada tahun 2000, anggota Perserikatan Bangsa-Bangsa (PBB) menetapkan Tujuan Pembangunan Milenium yang berisi tantangan yang akan diwujudkan umat manusia pada tahun 2015. Target ini kemudian dilanjutkan oleh Tujuan Pembangunan Berkelanjutan berupa 17 target yang akan dicapai pada tahun 2030, termasuk kehidupan sehat dan sejahtera.[24]\n",
      "\n",
      "Kesehatan mental [ sunting | sunting sumber ]\n",
      "\n",
      "Mental merupakan salah satu unsur yang dimasukkan oleh WHO dalam definisi kesehatan. Kesehatan mental atau kesehatan jiwa didefinisikan WHO sebagai \"Kondisi kesejahteraan ketika individu menyadari kemampuannya sendiri, dapat mengatasi tekanan kehidupan yang normal, dapat bekerja secara produktif dan bermanfaat, dan mampu memberikan kontribusi kepada komunitasnya\".[25] Kesehatan jiwa bukan hanya ketiadaan gangguan jiwa.[26]\n",
      "\n",
      "Berbagai faktor sosial, psikologis, dan biologis menentukan kesehatan jiwa seseorang. Kekerasan dan tekanan ekonomi yang persisten berisiko mengganggu kesehatan jiwa, sementara kekerasan seksual merupakan faktor yang paling diasosiasikan dengan kesehatan jiwa yang buruk. Faktor lain yang berpengaruh di antaranya perubahan sosial yang cepat, kondisi kerja yang penuh tekanan, diskriminasi gender, pengucilan sosial, gaya hidup tidak sehat, kesehatan fisik yang buruk, dan pelanggaran hak asasi manusia.[26]\n",
      "\n",
      "Gangguan jiwa hadir dalam berbagai bentuk, yang umumnya dicirikan dengan kombinasi antara pemikiran, persepsi, emosi, perilaku serta hubungan dengan orang lain yang abnormal.[27] Pada 2001, WHO memperkirakan bahwa satu dari empat orang pernah menderita gangguan jiwa atau gangguan saraf pada satu titik dalam kehidupannya.[28]\n",
      "\n",
      "Cara penting untuk menjaga kesehatan pribadi adalah memiliki diet dan pola makan yang sehat. Diet sehat mencakup berbagai makanan nabati dan hewani yang menyediakan nutrien bagi tubuh. Nutrien akan diubah menjadi energi untuk pertumbuhan, perkembangan, perbaikan, dan pemeliharaan tubuh. Nutrien makro dikonsumsi dalam jumlah yang relatif besar, yang mencakup protein, karbohidrat, dan lemak. Nutrien mikro, seperti vitamin dan mineral, dikonsumsi dalam jumlah yang relatif lebih kecil tetapi sangat penting untuk proses tubuh.[29] Panduan gizi seimbang merupakan panduan makanan sehat berbentuk piramida yang dibagi menjadi beberapa bagian. Setiap bagian menunjukkan asupan yang disarankan untuk setiap kelompok makanan (misalnya protein, lemak, karbohidrat, dan gula). Konsumsi diet sehat dapat menurunkan risiko penyakit jantung, mencegah perkembangan beberapa jenis kanker, dan menjaga berat badan yang sehat.[30] Diet mediterania umumnya dikaitkan dengan meningkatnya kesehatan karena diet ini mengandung banyak senyawa bioaktif seperti senyawa fenolik, isoprenoid, dan alkaloid.[31]\n",
      "\n",
      "Latihan fisik [ sunting | sunting sumber ]\n",
      "\n",
      "Latihan fisik meningkatkan atau mempertahankan kebugaran fisik dan kesehatan, serta kesejahteraan secara keseluruhan. Kegiatan ini memperkuat otot dan meningkatkan kinerja sistem kardiovaskular. Menurut Institut Kesehatan Nasional, ada empat jenis latihan fisik: daya tahan, kekuatan, fleksibilitas, dan keseimbangan.[32]\n",
      "\n",
      "Jam tidur yang diperlukan oleh setiap kelompok usia.[33] Usia dan kondisi Kebutuhan tidur Baru lahir (0–3 bulan) 14 sampai 17 jam Bayi (4–11 bulan) 12 sampai 15 jam Batita (1–2 tahun) 11 sampai 14 jam Balita (3–4 tahun) 10 sampai 13 jam Anak usia sekolah (5–12 tahun) 9 sampai 11 jam Remaja (13–17 tahun) 8 sampai 10 jam Dewasa (18–64 tahun) 7 sampai 9 jam Lanjut usia (65 tahun ke atas) 7 sampai 8 jam\n",
      "\n",
      "Tidur merupakan komponen penting untuk menjaga kesehatan. Bagi anak-anak, tidur juga penting untuk pertumbuhan dan perkembangan. Kekurangan tidur dikaitkan dengan peningkatan risiko beberapa masalah kesehatan kronis. Selain itu, kurang tidur terbukti berkorelasi dengan peningkatan kerentanan terhadap penyakit dan memperlambat waktu pemulihan dari penyakit.[34] Dalam sebuah penelitian, orang dengan kekurangan tidur yang kronis, yaitu sebagai enam jam tidur dalam semalam atau kurang, ditemukan empat kali lebih mungkin terserang pilek dibandingkan dengan orang-orang yang melaporkan tidur malam selama tujuh jam atau lebih.[35] Karena tidur juga berperan dalam mengatur metabolisme, kekurangan tidur juga dapat berperan dalam penambahan berat badan atau, sebaliknya, menghambat penurunan berat badan.[36] Selain itu, pada tahun 2007, Badan Internasional untuk Penelitian Kanker, yang merupakan lembaga penelitian kanker untuk WHO, menyatakan bahwa \"jam kerja yang melibatkan gangguan ritme sirkadian mungkin bersifat karsinogen bagi manusia.\"[37] Pada 2015, Yayasan Tidur Nasional menerbitkan rekomendasi terbaru tentang persyaratan durasi tidur berdasarkan usia dan menyimpulkan bahwa, \"Orang yang terbiasa tidur di luar kisaran normal mungkin menunjukkan tanda atau gejala masalah kesehatan yang serius atau, jika dilakukan atas kehendak sendiri, dapat membahayakan kesehatan dan kesejahteraan mereka.\"[33][38]\n",
      "\n",
      "Dalam bekerja [ sunting | sunting sumber ]\n",
      "\n",
      "Selain risiko keselamatan, banyak pekerjaan juga berisiko memunculkan penyakit dan masalah kesehatan jangka panjang lainnya. Contoh penyakit akibat pekerjaan yang paling umum adalah berbagai bentuk pneumokoniosis, seperti silikosis dan pneumokoniosis pekerja batu bara (penyakit paru-paru hitam). Asma adalah penyakit pernapasan lain yang rentan dialami pekerja. Pekerja juga rentan terhadap penyakit kulit, termasuk eksim, dermatitis, urtikaria, bakaran matahari, dan kanker kulit.[39] Penyakit terkait pekerjaan lainnya misalnya sindrom lorong karpal dan keracunan timbal.\n",
      "\n",
      "Karena jumlah pekerjaan di sektor jasa di negara-negara maju semakin banyak, gaya hidup kurang bergerak juga semakin meluas. Hal ini menghadirkan masalah kesehatan yang berbeda dibandingkan dengan masalah kesehatan pada industri manufaktur dan sektor primer. Masalah kontemporer, seperti meningkatnya tingkat obesitas dan masalah yang berkaitan dengan stres dan pekerjaan berlebih di banyak negara, semakin mempersulit interaksi antara pekerjaan dan kesehatan.\n",
      "\n",
      "Banyak pemerintah negara yang memandang kesehatan kerja sebagai tantangan sosial dan membentuk organisasi publik untuk memastikan kesehatan dan keselamatan pekerja. Di Britania Raya, Eksekutif Kesehatan dan Keselamatan dibentuk.[40] Sementara di Amerika Serikat, Institut Nasional untuk Kesehatan dan Keselamatan Kerja melakukan penelitian tentang kesehatan dan keselamatan kerja, sedangkan Administrasi Kesehatan dan Keselamatan Kerja menangani regulasi dan kebijakan yang berkaitan dengan kesehatan dan keselamatan bagi pekerja.[41][42]\n",
      "\n",
      "Pranala luar [ sunting | sunting sumber ]\n"
     ]
    }
   ],
   "source": [
    "#print article\n",
    "print(corpus)"
   ]
  },
  {
   "cell_type": "code",
   "execution_count": 7,
   "metadata": {},
   "outputs": [],
   "source": [
    "#Tokenization\n",
    "text = corpus\n",
    "sentence_list = nltk.sent_tokenize(text)"
   ]
  },
  {
   "cell_type": "code",
   "execution_count": 8,
   "metadata": {},
   "outputs": [
    {
     "name": "stdout",
     "output_type": "stream",
     "text": [
      "['Kesehatan adalah kondisi kesejahteraan fisik, mental, dan sosial yang lengkap dan bukan sekadar tidak adanya penyakit atau kelemahan.', '[1] Pemahaman tentang kesehatan telah bergeser seiring dengan waktu.', 'Berkembangnya teknologi kesehatan berbasis digital telah memungkinkan setiap orang untuk mempelajari dan menilai diri mereka sendiri, dan berpartisipasi aktif dalam gerakan promosi kesehatan.', 'Berbagai faktor sosial berpengaruh terhadap kondisi kesehatan, seperti perilaku individu, kondisi sosial, genetik dan biologi, perawatan kesehatan, dan lingkungan fisik.', 'Makna kesehatan telah berkembang seiring dengan waktu.', 'Dalam perspektif model biomedis, definisi awal kesehatan difokuskan pada kemampuan tubuh untuk berfungsi.', 'Kesehatan dipandang sebagai kondisi tubuh yang berfungsi normal yang dapat terganggu oleh penyakit dari waktu ke waktu.', '[2]\\n\\nPada tahun 1948, Organisasi Kesehatan Dunia (WHO) mendefinisikan kesehatan sebagai \"kesejahteraan fisik, mental, dan sosial, dan bukan hanya tidak adanya penyakit dan kelemahan\".', '[3] Meskipun definisi ini disambut baik oleh beberapa orang dan dipandang inovatif, definisi ini juga dikritik karena tidak jelas, terlalu luas, dan tidak diuraikan dengan terukur.', '[2] Beberapa ilmuwan mengajukan definisi kesehatan yang lain, misalnya \"kondisi yang ditandai dengan integritas anatomi; kemampuan untuk melakukan peran dalam keluarga, pekerjaan, dan masyarakat, yang dihargai secara pribadi; kemampuan untuk menghadapi tekanan fisik, biologis, dan sosial; perasaan sejahtera; dan kebebasan dari risiko penyakit dan kematian sebelum waktunya.', '\"[4]\\n\\nSemakin lama, penyakit tidak lagi dipandang sebagai sebuah kondisi, tetapi sebuah proses.', 'Pergeseran sudut pandang ini juga terjadi pada kesehatan.', 'Pada awal 1980-an, WHO mendorong perkembangan gerakan promosi kesehatan.', 'Gerakan ini memungkinkan orang-orang meningkatkan kendali atas kesehatan mereka dan memperbaiki status kesehatan mereka masing-masing.', 'Untuk mewujudkan kondisi kesejahteraan fisik, mental, dan sosial yang lengkap, sebagaimana definisi WHO tentang kesehatan, seseorang atau sekelompok orang perlu memiliki kemampuan untuk mengidentifikasi dan mewujudkan aspirasi, memenuhi kebutuhan, serta mengubah atau mengatasi lingkungannya.', 'Kesehatan dipandang sebagai sumber daya untuk kehidupan sehari-hari, bukan tujuan hidup.', '[5] Untuk mewujudkannya, ada beberapa prasyarat yang perlu dipenuhi, yaitu perdamaian, tempat tinggal, pendidikan, makanan, pendapatan, ekosistem yang stabil, sumber daya berkelanjutan, serta keadilan sosial dan kesetaraan.', '[6]\\n\\nGerakan promosi kesehatan memungkinkan kesehatan untuk diajarkan, dipelajari, dan diperkuat.', 'Pemahaman konsep kesehatan sebagai \"kemampuan untuk beradaptasi dan mengatur diri sendiri\" dan berkembangnya teknologi kesehatan berbasis digital telah membuka pintu bagi setiap orang untuk menilai diri mereka sendiri.', '[7] Hal ini juga memungkinkan setiap orang untuk merasa sehat, bahkan ketika mereka memiliki berbagai penyakit kronis atau berada dalam kondisi terminal.', '[8][9] Belakangan, istilah \"sehat\" juga banyak digunakan dalam berbagai konteks organisasi tak hidup yang memengaruhi kepentingan manusia, seperti dalam komunitas sehat, kota sehat, atau lingkungan sehat.', 'Penentu sosial [ sunting | sunting sumber ]\\n\\nSecara umum, latar belakang dan konteks kehidupan seseorang sangat memengaruhi status kesehatan dan kualitas hidupnya.', 'Kesehatan tidak hanya dipertahankan dan ditingkatkan melalui kemajuan dan penerapan ilmu kesehatan, tetapi juga melalui gaya hidup oleh suatu individu dan masyarakat sekitarnya.', 'Menurut WHO, penentu sosial kesehatan adalah kondisi yang dialami seseorang ketika dilahirkan, tumbuh, bekerja, hidup, dan menua, serta serangkaian kekuatan dan sistem yang lebih luas yang membentuk kondisi kehidupan sehari-hari.', 'Kondisi ini dibentuk oleh distribusi uang, kekuasaan, dan sumber daya di tingkat global, nasional, dan lokal.', 'Kondisi tersebut sangat bertanggung jawab atas kesenjangan kesehatan, baik di dalam suatu negara maupun di antara negara-negara.', '[10][11]\\n\\nFaktor-faktor kunci lebih spesifik yang memengaruhi apakah seseorang sehat atau tidak sehat meliputi penghasilan dan status sosial, jaringan dukungan sosial, pendidikan dan literasi, ketenagakerjaan/kondisi kerja, lingkungan sosial, lingkungan fisik, praktik kesehatan pribadi dan keterampilan mengatasi masalah, perkembangan masa kanak-kanak yang sehat, kondisi biologis dan genetik, perawatan kesehatan, gender, dan budaya.', '[12][13]\\n\\nVisualisasi faktor-faktor penentu sosial kesehatan, yang meliputi perilaku individu, kondisi sosial, genetik dan biologi, perawatan kesehatan, dan lingkungan fisik.', 'Semakin banyak penelitian dan laporan yang meneliti keterkaitan antara kesehatan dan berbagai faktor, termasuk gaya hidup, lingkungan, fasilitas pelayanan kesehatan, dan kebijakan kesehatan.', 'Salah satu kebijakan spesifik yang dibuat banyak negara dalam beberapa tahun terakhir adalah pengenaan pajak terhadap gula.', 'Minuman manis juga mulai dikenakan pajak dan mulai ditargetkan oleh gerakan antiobesitas akibat semakin banyaknya bukti yang menunjukkan hubungan antara minuman bergula tinggi dengan kegemukan.', '[14]\\n\\nSebuah studi mengungkapkan bahwa seseorang dapat meningkatkan kesehatan mereka melalui latihan fisik, tidur yang cukup, membatasi konsumsi alkohol, tidak merokok, menjaga berat badan, dan sarapan dengan rutin.', '[15] Lingkungan sering disebut sebagai faktor penting yang memengaruhi status kesehatan individu, termasuk lingkungan hidup, lingkungan binaan, dan lingkungan sosial.', 'Panduan tempat tinggal telah diterbitkan oleh WHO untuk memperbaiki kondisi tempat tinggal sehingga dapat menyelamatkan jiwa, mencegah penyakit, meningkatkan kualitas hidup, mengurangi kemiskinan, dan membantu mengurangi perubahan iklim.', '[16] Penelitian menunjukkan bahwa kurangnya ruang rekreasi, termasuk lingkungan alam, akan menurunkan tingkat kepuasan pribadi dan meningkatkan tingkat obesitas, dan dikaitkan dengan rendahnya kesehatan dan kesejahteraan secara umum.', '[17] Sementara itu, semakin banyak waktu yang dihabiskan di lingkungan alam akan berdampak positif pada kesehatan.', '[18]\\n\\nGenetik, atau sifat bawaan dari orang tua, juga berperan dalam menentukan status kesehatan individu dan populasi.', 'Hal ini mencakup kecenderungan terhadap penyakit dan kondisi kesehatan tertentu, serta kebiasaan dan perilaku yang dikembangkan oleh seseorang akibat gaya hidup keluarga mereka.', '[19] Sebagai contoh, genetik dapat memengaruhi cara seseorang mengatasi stres, baik mental, emosional, atau fisik.', 'Misalnya, kegemukan adalah masalah signifikan yang berkontribusi terhadap kesehatan mental yang buruk dan menyebabkan stres dalam kehidupan banyak orang.', '[20]\\n\\nKesehatan global [ sunting | sunting sumber ]\\n\\nKesehatan global merupakan penelitian dan tindakan kolaboratif lintas negara untuk mempromosikan kesehatan untuk semua.', '[21] Masalah kesehatan yang melampaui batas negara atau memiliki dampak politik dan ekonomi global sering kali ditekankan.', 'Seri Laporan Kesehatan Dunia yang diterbitkan oleh WHO berfokus pada masalah kesehatan global, termasuk akses untuk mendapatkan pelayanan kesehatan dan upaya meningkatkan kesehatan masyarakat, terutama di negara-negara berkembang.', '[22]\\n\\nAgenda Ketahanan Kesehatan Global (GHSA) merupakan upaya multisektor oleh lebih dari 60 negara dan sejumlah organisasi internasional yang berfokus untuk membangun ketahanan kesehatan dalam menghadapi ancaman penyakit infeksi.', '[23] Sementara itu, pada tahun 2000, anggota Perserikatan Bangsa-Bangsa (PBB) menetapkan Tujuan Pembangunan Milenium yang berisi tantangan yang akan diwujudkan umat manusia pada tahun 2015.', 'Target ini kemudian dilanjutkan oleh Tujuan Pembangunan Berkelanjutan berupa 17 target yang akan dicapai pada tahun 2030, termasuk kehidupan sehat dan sejahtera.', '[24]\\n\\nKesehatan mental [ sunting | sunting sumber ]\\n\\nMental merupakan salah satu unsur yang dimasukkan oleh WHO dalam definisi kesehatan.', 'Kesehatan mental atau kesehatan jiwa didefinisikan WHO sebagai \"Kondisi kesejahteraan ketika individu menyadari kemampuannya sendiri, dapat mengatasi tekanan kehidupan yang normal, dapat bekerja secara produktif dan bermanfaat, dan mampu memberikan kontribusi kepada komunitasnya\".', '[25] Kesehatan jiwa bukan hanya ketiadaan gangguan jiwa.', '[26]\\n\\nBerbagai faktor sosial, psikologis, dan biologis menentukan kesehatan jiwa seseorang.', 'Kekerasan dan tekanan ekonomi yang persisten berisiko mengganggu kesehatan jiwa, sementara kekerasan seksual merupakan faktor yang paling diasosiasikan dengan kesehatan jiwa yang buruk.', 'Faktor lain yang berpengaruh di antaranya perubahan sosial yang cepat, kondisi kerja yang penuh tekanan, diskriminasi gender, pengucilan sosial, gaya hidup tidak sehat, kesehatan fisik yang buruk, dan pelanggaran hak asasi manusia.', '[26]\\n\\nGangguan jiwa hadir dalam berbagai bentuk, yang umumnya dicirikan dengan kombinasi antara pemikiran, persepsi, emosi, perilaku serta hubungan dengan orang lain yang abnormal.', '[27] Pada 2001, WHO memperkirakan bahwa satu dari empat orang pernah menderita gangguan jiwa atau gangguan saraf pada satu titik dalam kehidupannya.', '[28]\\n\\nCara penting untuk menjaga kesehatan pribadi adalah memiliki diet dan pola makan yang sehat.', 'Diet sehat mencakup berbagai makanan nabati dan hewani yang menyediakan nutrien bagi tubuh.', 'Nutrien akan diubah menjadi energi untuk pertumbuhan, perkembangan, perbaikan, dan pemeliharaan tubuh.', 'Nutrien makro dikonsumsi dalam jumlah yang relatif besar, yang mencakup protein, karbohidrat, dan lemak.', 'Nutrien mikro, seperti vitamin dan mineral, dikonsumsi dalam jumlah yang relatif lebih kecil tetapi sangat penting untuk proses tubuh.', '[29] Panduan gizi seimbang merupakan panduan makanan sehat berbentuk piramida yang dibagi menjadi beberapa bagian.', 'Setiap bagian menunjukkan asupan yang disarankan untuk setiap kelompok makanan (misalnya protein, lemak, karbohidrat, dan gula).', 'Konsumsi diet sehat dapat menurunkan risiko penyakit jantung, mencegah perkembangan beberapa jenis kanker, dan menjaga berat badan yang sehat.', '[30] Diet mediterania umumnya dikaitkan dengan meningkatnya kesehatan karena diet ini mengandung banyak senyawa bioaktif seperti senyawa fenolik, isoprenoid, dan alkaloid.', '[31]\\n\\nLatihan fisik [ sunting | sunting sumber ]\\n\\nLatihan fisik meningkatkan atau mempertahankan kebugaran fisik dan kesehatan, serta kesejahteraan secara keseluruhan.', 'Kegiatan ini memperkuat otot dan meningkatkan kinerja sistem kardiovaskular.', 'Menurut Institut Kesehatan Nasional, ada empat jenis latihan fisik: daya tahan, kekuatan, fleksibilitas, dan keseimbangan.', '[32]\\n\\nJam tidur yang diperlukan oleh setiap kelompok usia.', '[33] Usia dan kondisi Kebutuhan tidur Baru lahir (0–3 bulan) 14 sampai 17 jam Bayi (4–11 bulan) 12 sampai 15 jam Batita (1–2 tahun) 11 sampai 14 jam Balita (3–4 tahun) 10 sampai 13 jam Anak usia sekolah (5–12 tahun) 9 sampai 11 jam Remaja (13–17 tahun) 8 sampai 10 jam Dewasa (18–64 tahun) 7 sampai 9 jam Lanjut usia (65 tahun ke atas) 7 sampai 8 jam\\n\\nTidur merupakan komponen penting untuk menjaga kesehatan.', 'Bagi anak-anak, tidur juga penting untuk pertumbuhan dan perkembangan.', 'Kekurangan tidur dikaitkan dengan peningkatan risiko beberapa masalah kesehatan kronis.', 'Selain itu, kurang tidur terbukti berkorelasi dengan peningkatan kerentanan terhadap penyakit dan memperlambat waktu pemulihan dari penyakit.', '[34] Dalam sebuah penelitian, orang dengan kekurangan tidur yang kronis, yaitu sebagai enam jam tidur dalam semalam atau kurang, ditemukan empat kali lebih mungkin terserang pilek dibandingkan dengan orang-orang yang melaporkan tidur malam selama tujuh jam atau lebih.', '[35] Karena tidur juga berperan dalam mengatur metabolisme, kekurangan tidur juga dapat berperan dalam penambahan berat badan atau, sebaliknya, menghambat penurunan berat badan.', '[36] Selain itu, pada tahun 2007, Badan Internasional untuk Penelitian Kanker, yang merupakan lembaga penelitian kanker untuk WHO, menyatakan bahwa \"jam kerja yang melibatkan gangguan ritme sirkadian mungkin bersifat karsinogen bagi manusia.', '\"[37] Pada 2015, Yayasan Tidur Nasional menerbitkan rekomendasi terbaru tentang persyaratan durasi tidur berdasarkan usia dan menyimpulkan bahwa, \"Orang yang terbiasa tidur di luar kisaran normal mungkin menunjukkan tanda atau gejala masalah kesehatan yang serius atau, jika dilakukan atas kehendak sendiri, dapat membahayakan kesehatan dan kesejahteraan mereka.', '\"[33][38]\\n\\nDalam bekerja [ sunting | sunting sumber ]\\n\\nSelain risiko keselamatan, banyak pekerjaan juga berisiko memunculkan penyakit dan masalah kesehatan jangka panjang lainnya.', 'Contoh penyakit akibat pekerjaan yang paling umum adalah berbagai bentuk pneumokoniosis, seperti silikosis dan pneumokoniosis pekerja batu bara (penyakit paru-paru hitam).', 'Asma adalah penyakit pernapasan lain yang rentan dialami pekerja.', 'Pekerja juga rentan terhadap penyakit kulit, termasuk eksim, dermatitis, urtikaria, bakaran matahari, dan kanker kulit.', '[39] Penyakit terkait pekerjaan lainnya misalnya sindrom lorong karpal dan keracunan timbal.', 'Karena jumlah pekerjaan di sektor jasa di negara-negara maju semakin banyak, gaya hidup kurang bergerak juga semakin meluas.', 'Hal ini menghadirkan masalah kesehatan yang berbeda dibandingkan dengan masalah kesehatan pada industri manufaktur dan sektor primer.', 'Masalah kontemporer, seperti meningkatnya tingkat obesitas dan masalah yang berkaitan dengan stres dan pekerjaan berlebih di banyak negara, semakin mempersulit interaksi antara pekerjaan dan kesehatan.', 'Banyak pemerintah negara yang memandang kesehatan kerja sebagai tantangan sosial dan membentuk organisasi publik untuk memastikan kesehatan dan keselamatan pekerja.', 'Di Britania Raya, Eksekutif Kesehatan dan Keselamatan dibentuk.', '[40] Sementara di Amerika Serikat, Institut Nasional untuk Kesehatan dan Keselamatan Kerja melakukan penelitian tentang kesehatan dan keselamatan kerja, sedangkan Administrasi Kesehatan dan Keselamatan Kerja menangani regulasi dan kebijakan yang berkaitan dengan kesehatan dan keselamatan bagi pekerja.', '[41][42]\\n\\nPranala luar [ sunting | sunting sumber ]']\n"
     ]
    }
   ],
   "source": [
    "#print sentence list\n",
    "print(sentence_list)"
   ]
  },
  {
   "cell_type": "code",
   "execution_count": 9,
   "metadata": {},
   "outputs": [],
   "source": [
    "class tokenize():\n",
    "    def WordTokenize(self, sentence, stopword=None, removepunct=False, splitby='space'):\n",
    "        #isi param = sentence:kalimat\n",
    "        #stopword:listkatatidakpenting\n",
    "        #removepunct:tandabaca'\n",
    "        #splitby:pisahberdasarkan\n",
    "        if splitby.strip().lower()=='space':\n",
    "            words = re.split(r'\\s',sentence)\n",
    "        elif splitby.strip().lower()=='word':\n",
    "            words = re.split('(\\w+)?', sentence)\n",
    "        else:\n",
    "            raise NotImplementedError\n",
    "    \n",
    "        #jika remove punct true maka tanda baca akan dihapus\n",
    "        if removepunct:\n",
    "            table = string.maketrans(\"\",\"\")\n",
    "            words = [z.translate(table,string.punctuation).strip() for z in words]\n",
    "    \n",
    "        #hapus seluruh empty char pada list\n",
    "        words = [x.strip().lower() for x in words if x.strip()]\n",
    "    \n",
    "        return words\n",
    "\n",
    "    def CharTokenize(self,word):\n",
    "        # untuk kata\n",
    "        return list(word)"
   ]
  },
  {
   "cell_type": "code",
   "execution_count": 10,
   "metadata": {},
   "outputs": [
    {
     "name": "stdout",
     "output_type": "stream",
     "text": [
      "['dia', 'pergi', 'ke', '!!', 'pasar', 'memang.', ':)']\n",
      "['mereka', 'pergi2nya,', 'ke', 'kota', 'lagi', 'ntar']\n",
      "['a', 'k', 'u']\n"
     ]
    }
   ],
   "source": [
    "tkKlmt = tokenize()\n",
    "klmt = tkKlmt.WordTokenize(\"dia pergi ke !! pasar memang. :)\")\n",
    "klmt2 = tkKlmt.WordTokenize(\"mereka pergi2nya, ke kota lagi ntar\")\n",
    "kata = tkKlmt.CharTokenize(\"aku\")\n",
    "print(klmt)\n",
    "print(klmt2)\n",
    "print(kata)"
   ]
  },
  {
   "cell_type": "code",
   "execution_count": 11,
   "metadata": {},
   "outputs": [],
   "source": [
    "#fungsi untuk memberikan respon terhadap user\n",
    "def greeting_response(text):\n",
    "    text = text.lower()\n",
    "    \n",
    "    bot_greetings = ['hi', 'hey', 'hello', 'halo']\n",
    "    user_greetings = ['hi', 'hey', 'hello', 'halo']\n",
    "    \n",
    "    \n",
    "    for word in text.split():\n",
    "        if word in user_greetings:\n",
    "            return random.choice(bot_greetings)"
   ]
  },
  {
   "cell_type": "code",
   "execution_count": 12,
   "metadata": {},
   "outputs": [],
   "source": [
    "def index_sort(list_var):\n",
    "    length = len(list_var)\n",
    "    list_index = list(range(0, length))\n",
    "    \n",
    "    x = list_var\n",
    "    for i in range(length):\n",
    "        for j in range(length):\n",
    "            if x[list_index[i]] > x[list_index[j]]:\n",
    "                temp = list_index[i]\n",
    "                list_index[i] = list_index[j]\n",
    "                list_index[j] = temp\n",
    "    \n",
    "    return list_index"
   ]
  },
  {
   "cell_type": "code",
   "execution_count": 13,
   "metadata": {},
   "outputs": [],
   "source": [
    "#membuat response dari bot\n",
    "def bot_response(user_input):\n",
    "    user_input = user_input.lower()\n",
    "    sentence_list.append(user_input)\n",
    "    bot_response = ''\n",
    "    cm = CountVectorizer().fit_transform(sentence_list)\n",
    "    similarity_scores = cosine_similarity(cm[-1], cm)\n",
    "    similarity_scores_list = similarity_scores.flatten()\n",
    "    index = index_sort(similarity_scores_list)\n",
    "    index = index[1:]\n",
    "    response_flag = 0\n",
    "    \n",
    "    j = 0\n",
    "    for i in range(len(index)):\n",
    "        if similarity_scores_list[index[i]] > 0.0:\n",
    "            bot_response = bot_response+' '+sentence_list[index[i]]\n",
    "            response_flag = 1\n",
    "            j = j+1\n",
    "        if j > 2:\n",
    "            break\n",
    "            \n",
    "    if response_flag == 0:\n",
    "        bot_response = bot_response+' '+\"I apologize, I don't understant.\"\n",
    "        \n",
    "    sentence_list.remove(user_input)\n",
    "    \n",
    "    return bot_response"
   ]
  },
  {
   "cell_type": "code",
   "execution_count": null,
   "metadata": {},
   "outputs": [
    {
     "name": "stdout",
     "output_type": "stream",
     "text": [
      "Doc Bot: I am Doctor Bot or Doc Bot for short. I will answer your queries about Chronic Kidney Disease. If you want to exit, type bye.\n",
      "hi\n",
      "Doc Bot: hello\n",
      "kesehatan adalah\n",
      "Doc Bot:  Seri Laporan Kesehatan Dunia yang diterbitkan oleh WHO berfokus pada masalah kesehatan global, termasuk akses untuk mendapatkan pelayanan kesehatan dan upaya meningkatkan kesehatan masyarakat, terutama di negara-negara berkembang. [6]\n",
      "\n",
      "Gerakan promosi kesehatan memungkinkan kesehatan untuk diajarkan, dipelajari, dan diperkuat. [20]\n",
      "\n",
      "Kesehatan global [ sunting | sunting sumber ]\n",
      "\n",
      "Kesehatan global merupakan penelitian dan tindakan kolaboratif lintas negara untuk mempromosikan kesehatan untuk semua.\n"
     ]
    }
   ],
   "source": [
    "#memulai percapakapan dengan bot\n",
    "print('Doc Bot: I am Doctor Bot or Doc Bot for short. I will answer your queries about Chronic Kidney Disease. If you want to exit, type bye.')\n",
    "\n",
    "exit_list = ['exit', 'see you later', 'bye', 'quit', 'break']\n",
    "\n",
    "while(True):\n",
    "    user_input = input()\n",
    "    if user_input.lower() in exit_list:\n",
    "        print('Doc Bot: Chat with you later !')\n",
    "        break\n",
    "    else:\n",
    "        if greeting_response(user_input) != None:\n",
    "            print('Doc Bot: '+greeting_response(user_input))\n",
    "        else:\n",
    "            print('Doc Bot: '+bot_response(user_input))"
   ]
  },
  {
   "cell_type": "code",
   "execution_count": null,
   "metadata": {},
   "outputs": [],
   "source": []
  }
 ],
 "metadata": {
  "kernelspec": {
   "display_name": "Python 3",
   "language": "python",
   "name": "python3"
  },
  "language_info": {
   "codemirror_mode": {
    "name": "ipython",
    "version": 3
   },
   "file_extension": ".py",
   "mimetype": "text/x-python",
   "name": "python",
   "nbconvert_exporter": "python",
   "pygments_lexer": "ipython3",
   "version": "3.7.3"
  }
 },
 "nbformat": 4,
 "nbformat_minor": 2
}
